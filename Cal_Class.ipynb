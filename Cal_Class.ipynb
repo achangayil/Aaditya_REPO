{
  "nbformat": 4,
  "nbformat_minor": 0,
  "metadata": {
    "colab": {
      "name": "Cal_Class.ipynb",
      "provenance": [],
      "authorship_tag": "ABX9TyOLWtpnipeYxvIhQtKEN02d",
      "include_colab_link": true
    },
    "kernelspec": {
      "name": "python3",
      "display_name": "Python 3"
    },
    "language_info": {
      "name": "python"
    }
  },
  "cells": [
    {
      "cell_type": "markdown",
      "metadata": {
        "id": "view-in-github",
        "colab_type": "text"
      },
      "source": [
        "<a href=\"https://colab.research.google.com/github/achangayil/Aaditya_REPO/blob/main/Cal_Class.ipynb\" target=\"_parent\"><img src=\"https://colab.research.google.com/assets/colab-badge.svg\" alt=\"Open In Colab\"/></a>"
      ]
    },
    {
      "cell_type": "code",
      "execution_count": 5,
      "metadata": {
        "colab": {
          "base_uri": "https://localhost:8080/"
        },
        "id": "rOHehVagm1or",
        "outputId": "1d0bc6d0-7cec-45eb-c056-eecb94622c5b"
      },
      "outputs": [
        {
          "output_type": "stream",
          "name": "stdout",
          "text": [
            "show sum 13\n",
            "show sub 3\n"
          ]
        }
      ],
      "source": [
        "class calculate_add_and_sub:\n",
        "\n",
        "  def __init__(self, num1, num2):\n",
        "    self.n1 = num1\n",
        "    self.n2 = num2\n",
        "\n",
        "  def add_sub(self):\n",
        "    sum = self.n1 + self.n2\n",
        "    sub = self.n1 - self.n2\n",
        "    return sum, sub\n",
        "\n",
        "  def show(self):\n",
        "    show_sum = self.add_sub()[0]\n",
        "    print(\"show sum\", show_sum)\n",
        "    show_sub = self.add_sub()[1]\n",
        "    print(\"show sub\", show_sub)\n",
        "\n",
        "def main():\n",
        "  x = 8\n",
        "  y = 5\n",
        "  obj = calculate_add_and_sub(x,y)\n",
        "  obj.show()\n",
        "\n",
        "if __name__ == '__main__':\n",
        "  main()"
      ]
    }
  ]
}