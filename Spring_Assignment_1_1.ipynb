{
  "nbformat": 4,
  "nbformat_minor": 0,
  "metadata": {
    "colab": {
      "name": "Spring_Assignment_1.1.ipynb",
      "provenance": [],
      "authorship_tag": "ABX9TyNRTjExNmy9YUJWgSLCxhml",
      "include_colab_link": true
    },
    "kernelspec": {
      "name": "python3",
      "display_name": "Python 3"
    },
    "language_info": {
      "name": "python"
    }
  },
  "cells": [
    {
      "cell_type": "markdown",
      "metadata": {
        "id": "view-in-github",
        "colab_type": "text"
      },
      "source": [
        "<a href=\"https://colab.research.google.com/github/achangayil/Aaditya_REPO/blob/main/Spring_Assignment_1_1.ipynb\" target=\"_parent\"><img src=\"https://colab.research.google.com/assets/colab-badge.svg\" alt=\"Open In Colab\"/></a>"
      ]
    },
    {
      "cell_type": "code",
      "execution_count": 5,
      "metadata": {
        "colab": {
          "base_uri": "https://localhost:8080/"
        },
        "id": "v1ePvL4A3_Sq",
        "outputId": "0f17f8c0-d291-4016-b225-a54b5124f080"
      },
      "outputs": [
        {
          "output_type": "stream",
          "name": "stdout",
          "text": [
            "Enter a whole, positive number: 456\n",
            "List of divisors less than 456 : [1, 2, 3, 4, 6, 8, 12, 19, 24, 38, 57, 76, 114, 152, 228]\n"
          ]
        }
      ],
      "source": [
        "#1. Create a Python script that asks the user for a number and then prints out a list of all\n",
        "# the divisors of each number less than the asked number.\n",
        "# Aaditya Changayil\n",
        "# AChangayil1@student.gsu.edu\n",
        "# DSCI 1302 PRINC OF PROG FOR DATA SCI II\n",
        "# January 16, 2022.\n",
        "\n",
        "class math_operation: # This is the class\n",
        "  \n",
        "  # The init method is a pre-defined constructor for use in the class.\n",
        "  # It takes in the variable num as well as the self keyword.\n",
        "  # The self keyword is an instance of a class. \n",
        "  # It allows us to access methods and variables.\n",
        "  def __init__(self, num): \n",
        "\n",
        "    self.n = num # num is now assigned to the self keyword initialized as a variable.\n",
        "  \n",
        "  # This is the method which will be conducting the problem. \n",
        "  # The self keyword is inputted rather than parameter variables. This carries all attributes, including variables,\n",
        "  # to the method. \n",
        "  def divisor_finder(self): \n",
        "    the_list = [] # A list has been created.\n",
        "\n",
        "    # self.n is passed through the class as a parameter.\n",
        "    for x in range(1,self.n): # for each whole number in the range, starting from one to the inputted number - 1, \n",
        "      if (self.n % x == 0): # if the remainder of the inputted number is equal to 0, \n",
        "        the_list.append(x) # append that number to a list. \n",
        "    print(\"List of divisors less than\", self.n, \":\", the_list) \n",
        "\n",
        "def main(): # This is the main method. It is the execution point for any program in the class. \n",
        "  \n",
        "  num = int(input(\"Enter a whole, positive number: \")) # num is the input variable. Enter an integer.\n",
        "  # The object, obj, is created. It is the object for the math_operation class, and num is passed as a parameter.\n",
        "  obj = math_operation(num) \n",
        "  obj.divisor_finder() # call the divisor_finder() method through the object.\n",
        "\n",
        "# __name__ is a special variable that defines the name of the class from where it's called.\n",
        "# __main__ represents __name__. __name__ will look for the main code to execute. \n",
        "if __name__ == \"__main__\": \n",
        "  main()     # if __name__ == \"__main__\", the main method will ony directly execute."
      ]
    }
  ]
}