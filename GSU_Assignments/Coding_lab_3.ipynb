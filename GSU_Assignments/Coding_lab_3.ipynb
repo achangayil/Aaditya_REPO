{
  "nbformat": 4,
  "nbformat_minor": 0,
  "metadata": {
    "colab": {
      "name": "Coding lab 3.ipynb",
      "provenance": []
    },
    "kernelspec": {
      "name": "python3",
      "display_name": "Python 3"
    },
    "language_info": {
      "name": "python"
    }
  },
  "cells": [
    {
      "cell_type": "markdown",
      "source": [
        "Coding Lab 3\n",
        " \n",
        "Instructions\n",
        "90 points \n",
        "\n",
        "In this lab you will be creating a class called GradeStatistics\n",
        "\n",
        "This class would be able to take in a NumPy array of floating point values between [ 0 -100 ] of any length where each element in the array represents the individual assignment grade of an student in a class for one assignment ( ie, class grade for Homework 1)\n",
        "\n",
        "GradeStatistics should method contain and implement the following methods:\n",
        "\n",
        "mean\n",
        "\n",
        "median\n",
        "\n",
        "mode (you may apply a floor or rounding function to it to allow for groupings)\n",
        "\n",
        "standard deviation\n",
        "\n",
        "variance\n",
        "\n",
        "10 points - Why would you need each of these stats?"
      ],
      "metadata": {
        "id": "bIpPe7N6tGtn"
      }
    },
    {
      "cell_type": "code",
      "execution_count": 1,
      "metadata": {
        "colab": {
          "base_uri": "https://localhost:8080/"
        },
        "id": "fFhWQPCGs0qW",
        "outputId": "0580de2d-9718-4c19-8b82-36b601159af6"
      },
      "outputs": [
        {
          "output_type": "stream",
          "name": "stdout",
          "text": [
            "Here is a list of student grades: \n",
            " [[94.68163808 32.0517258  43.58752609 91.29630501 37.79880284]\n",
            " [47.26162728 94.68846326 52.04631825 87.40485583 38.26525213]\n",
            " [69.57926141 62.69812406 52.63101391 16.75755127 44.93880214]]\n",
            "What is the mean of the students' grades? 57.71248449173973\n",
            "What is the median of the students' grades? 52.04631825426181\n",
            "What is the mode of the students' grades? \n",
            " ModeResult(mode=array([[47.26162728, 32.0517258 , 43.58752609, 16.75755127, 37.79880284]]), count=array([[1, 1, 1, 1, 1]]))\n",
            "What is the standard_deviation of the students' grades? 23.87395722047322\n",
            "What is the variance of the students' grades? 569.9658333649854\n"
          ]
        }
      ],
      "source": [
        "import numpy as np             # imports numpy through shorter alias. alias can be anything.\n",
        "from scipy import stats as s   # stats a special module from scipy that is using the alias s.\n",
        "\n",
        "class GradeStatistics: # this is the class\n",
        "  \n",
        "  def __init__(self, student_grades): #this is the init constructor. It takes in the self keyword and the variable student_grades as parameters\n",
        "    self.str_grds = student_grades  # assign the variable to the self keyword initialized as self.str_grades so you can use self anywhere\n",
        "\n",
        "  def allmethods(self): # define the method. self is passed, which gives access to all variables in the init method.\n",
        "   \n",
        "   # this is the dictionary. I'm printing all numpy methods by passing self.str_grds. In-built methods are called through numpy or stats\n",
        "    the_stats = {   \n",
        "    'mean' : (print(\"What is the mean of the students' grades?\", np.mean(self.str_grds))),\n",
        "    'median':( print(\"What is the median of the students' grades?\", np.median(self.str_grds))),\n",
        "    'mode': print(\"What is the mode of the students' grades? \\n\", s.mode(self.str_grds)),\n",
        "    'standard_deviation': print(\"What is the standard_deviation of the students' grades?\", np.std(self.str_grds)),\n",
        "    'variance': print(\"What is the variance of the students' grades?\", np.var(self.str_grds))\n",
        "    }\n",
        "\n",
        "    return the_stats # returns the dictioary's value results\n",
        "\n",
        "def main(): # main method\n",
        "  # finds arandom float number between 0 and 100, returns a set with 15 items organized with 3 rows and five colums\n",
        "  student_grades = np.random.uniform(0, 100,[3, 5]) # random.uniform returns random floating numbers in a range between two numbers\n",
        "  print(\"Here is a list of student grades: \\n\", student_grades) \n",
        " \n",
        " # classes are the blueprint for objects\n",
        "  numbers = GradeStatistics(student_grades) # object is created for the class, and the variable student_grade is passed as parameter.\n",
        "  numbers.allmethods() # calling the method through the object\n",
        "\n",
        "if __name__ == \"__main__\": \n",
        "  main()"
      ]
    },
    {
      "cell_type": "markdown",
      "source": [
        "Mean - Mean represents the average of a group of numbers. One can understand the average value of a dataset by looking at the mean. However, means sometimes are biased, like when data is skewed or has outliers, so the mean may not reflect its group as well as it could.\n",
        "\n",
        "Median - Median is the absolute center of a data set in numerical order. It is a better measure for data than mean, because a few outliers won't change it too much, because its position is determined by where the bulk of the data is.\n",
        "\n",
        "Mode - Mode is the number with the hugest frequency in a number set. It is useful when finding patterns in data, like what numbers have the highest frequencies, lowest frequencies, or in the middle, and making conclusion about data based on that. \n",
        "\n",
        "Standard deviation - Sd is the average deviation from the mean. It can help determine the dispersity of the data. Determining how spread out a dataset is very useful in plenty of situations. It gives more clarity about the deviation of data from the mean than variance.\n",
        "\n",
        "Variance - It is the Sd squared. It was done to make the standard deviations positive, since all regular numbers squared are positive. Variance hepls determine the degree of spread in a data set, and how individual numbers relate to one another. Due to all the deviations now being positive, they are now treated similarly to the positive deviations, thus making it more easier and less complicated to do problems.\n"
      ],
      "metadata": {
        "id": "4_rGS6aVs7BA"
      }
    }
  ]
}